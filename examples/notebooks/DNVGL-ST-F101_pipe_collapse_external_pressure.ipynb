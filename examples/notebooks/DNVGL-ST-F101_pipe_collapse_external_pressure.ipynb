{
 "cells": [
  {
   "cell_type": "markdown",
   "metadata": {},
   "source": [
    "**Task**:\n",
    "    \n",
    "    Pipe collapse (local buckling - system collapse) according to DNVGL-ST-F101.\n",
    "\n",
    "**References**:\n",
    "\n",
    "1. [DNVGL-ST-F101](https://www.dnvgl.com/oilgas/download/dnvgl-st-f101-submarine-pipeline-systems.html)  (edition 2017-12)  \n",
    "1. [PDover2t](https://github.com/qwilka/PDover2t)  \n",
    "\n",
    "Copyright © 2018 Stephen McEntee.  Licensed under the MIT license, see [PDover2t LICENSE file](https://github.com/qwilka/PDover2t/blob/master/LICENSE) for details."
   ]
  },
  {
   "cell_type": "code",
   "execution_count": 1,
   "metadata": {},
   "outputs": [],
   "source": [
    "import pprint\n",
    "import numpy as np\n",
    "import pdover2t"
   ]
  },
  {
   "cell_type": "code",
   "execution_count": 2,
   "metadata": {},
   "outputs": [],
   "source": [
    "alpha_fab = 0.85\n",
    "alpha_U = 1.00\n",
    "D = 0.660\n",
    "D_max = D\n",
    "D_min = D\n",
    "E = 207.*10**9\n",
    "g = 9.81\n",
    "h_l = -410.\n",
    "material = \"CMn\"\n",
    "nu = 0.3\n",
    "rho_water = 1027.\n",
    "SMYS = 450.e6\n",
    "t = 0.0212\n",
    "t_corr = 0.0005\n",
    "t_fab = 0.001\n",
    "T = 60"
   ]
  },
  {
   "cell_type": "code",
   "execution_count": 3,
   "metadata": {},
   "outputs": [
    {
     "name": "stdout",
     "output_type": "stream",
     "text": [
      "Minimum pipe wall thickness: 0.0197\n"
     ]
    }
   ],
   "source": [
    "t_1 = t - t_corr - t_fab\n",
    "print(f\"Minimum pipe wall thickness: {t_1}\")"
   ]
  },
  {
   "cell_type": "code",
   "execution_count": 4,
   "metadata": {},
   "outputs": [
    {
     "name": "stdout",
     "output_type": "stream",
     "text": [
      "Pipe ovality: 0.005\n"
     ]
    }
   ],
   "source": [
    "O_0 = pdover2t.dnvgl_st_f101.pipe_ovality(D, D_max, D_min)\n",
    "print(f\"Pipe ovality: {O_0}\")"
   ]
  },
  {
   "cell_type": "code",
   "execution_count": 5,
   "metadata": {},
   "outputs": [
    {
     "name": "stdout",
     "output_type": "stream",
     "text": [
      "Pipe material strength, with temperature de-rating: 444000000.0\n"
     ]
    }
   ],
   "source": [
    "f_y = pdover2t.dnvgl_st_f101.char_mat_strength(SMYS, T, material, alpha_U=alpha_U)\n",
    "print(f\"Pipe material strength, with temperature de-rating: {f_y:.1f}\")"
   ]
  },
  {
   "cell_type": "code",
   "execution_count": 6,
   "metadata": {
    "scrolled": true
   },
   "outputs": [
    {
     "name": "stdout",
     "output_type": "stream",
     "text": [
      "External pressure due to water depth: 4130696.7\n"
     ]
    }
   ],
   "source": [
    "p_e = rho_water * g * abs(h_l) \n",
    "print(f\"External pressure due to water depth: {p_e:.1f}\")"
   ]
  },
  {
   "cell_type": "code",
   "execution_count": 7,
   "metadata": {},
   "outputs": [
    {
     "name": "stdout",
     "output_type": "stream",
     "text": [
      "Pipe characteristic elastic pressure: 12098341.0\n"
     ]
    }
   ],
   "source": [
    "p_el = pdover2t.dnvgl_st_f101.pipe_char_elastic_pressure(t_1, D, nu, E)\n",
    "print(f\"Pipe characteristic elastic pressure: {p_el:.1f}\")"
   ]
  },
  {
   "cell_type": "code",
   "execution_count": 8,
   "metadata": {},
   "outputs": [
    {
     "name": "stdout",
     "output_type": "stream",
     "text": [
      "Pipe characteristic plastic pressure: 22529636.4\n"
     ]
    }
   ],
   "source": [
    "p_p = pdover2t.dnvgl_st_f101.pipe_char_plastic_pressure(t_1, D, f_y, alpha_fab)\n",
    "print(f\"Pipe characteristic plastic pressure: {p_p:.1f}\")"
   ]
  },
  {
   "cell_type": "code",
   "execution_count": 9,
   "metadata": {},
   "outputs": [
    {
     "name": "stdout",
     "output_type": "stream",
     "text": [
      "Pipe collapse pressure (numerical): 10831164.1\n"
     ]
    }
   ],
   "source": [
    "p_c_0 =  1025*9.81*1 # initial value for numerical calculation of pipe collapse pressure\n",
    "p_c = pdover2t.dnvgl_st_f101.char_collapse_pressure_num(p_el, p_p, O_0, D, t_1, p_c_0=p_c_0)\n",
    "print(f\"Pipe collapse pressure (numerical): {p_c:.1f}\")"
   ]
  },
  {
   "cell_type": "code",
   "execution_count": 10,
   "metadata": {},
   "outputs": [
    {
     "name": "stdout",
     "output_type": "stream",
     "text": [
      "Pipe collapse unity check (numerical): 0.500\n"
     ]
    }
   ],
   "source": [
    "pipe_collapse_uty = pdover2t.dnvgl_st_f101.pipe_collapse_unity(p_e, p_c)\n",
    "print(f\"Pipe collapse unity check (numerical): {pipe_collapse_uty:.3f}\")"
   ]
  },
  {
   "cell_type": "code",
   "execution_count": 11,
   "metadata": {},
   "outputs": [
    {
     "name": "stdout",
     "output_type": "stream",
     "text": [
      "Pipe collapse pressure (analytic): 10831164.1\n"
     ]
    }
   ],
   "source": [
    "p_c = pdover2t.dnvgl_st_f101.char_collapse_pressure(p_el, p_p, O_0, D, t_1)\n",
    "print(f\"Pipe collapse pressure (analytic): {p_c:.1f}\")"
   ]
  },
  {
   "cell_type": "code",
   "execution_count": 12,
   "metadata": {},
   "outputs": [
    {
     "name": "stdout",
     "output_type": "stream",
     "text": [
      "Pipe collapse unity check (analytic): 0.500\n"
     ]
    }
   ],
   "source": [
    "pipe_collapse_uty = pdover2t.dnvgl_st_f101.pipe_collapse_unity(p_e, p_c)\n",
    "print(f\"Pipe collapse unity check (analytic): {pipe_collapse_uty:.3f}\")"
   ]
  }
 ],
 "metadata": {
  "kernelspec": {
   "display_name": "Python 3",
   "language": "python",
   "name": "python3"
  },
  "language_info": {
   "codemirror_mode": {
    "name": "ipython",
    "version": 3
   },
   "file_extension": ".py",
   "mimetype": "text/x-python",
   "name": "python",
   "nbconvert_exporter": "python",
   "pygments_lexer": "ipython3",
   "version": "3.6.6"
  }
 },
 "nbformat": 4,
 "nbformat_minor": 2
}
