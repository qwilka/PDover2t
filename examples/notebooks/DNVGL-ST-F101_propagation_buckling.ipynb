{
 "cells": [
  {
   "cell_type": "markdown",
   "metadata": {},
   "source": [
    "**Task**:\n",
    "    \n",
    "    Pipe propagation buckling according to DNVGL-ST-F101.\n",
    "\n",
    "**References**:\n",
    "\n",
    "1. [DNVGL-ST-F101](https://www.dnvgl.com/oilgas/download/dnvgl-st-f101-submarine-pipeline-systems.html)  (edition 2017-12)  \n",
    "1. [PDover2t](https://github.com/qwilka/PDover2t)  \n",
    "\n",
    "Copyright © 2018 Stephen McEntee.  Licensed under the MIT license, see [PDover2t LICENSE file](https://github.com/qwilka/PDover2t/blob/master/LICENSE) for details."
   ]
  },
  {
   "cell_type": "code",
   "execution_count": 1,
   "metadata": {},
   "outputs": [],
   "source": [
    "import pprint\n",
    "import numpy as np\n",
    "import pdover2t"
   ]
  },
  {
   "cell_type": "code",
   "execution_count": 2,
   "metadata": {},
   "outputs": [],
   "source": [
    "alpha_fab = 0.85\n",
    "alpha_U = 1.00\n",
    "D = 0.660\n",
    "g = 9.81\n",
    "h_l = -410.   # np.linspace(0,500,10)  \n",
    "material = \"CMn\"\n",
    "rho_water = 1027.\n",
    "SMYS = 450.e6\n",
    "t = 0.0212\n",
    "t_corr = 0.0005\n",
    "T = 60"
   ]
  },
  {
   "cell_type": "code",
   "execution_count": 3,
   "metadata": {},
   "outputs": [
    {
     "name": "stdout",
     "output_type": "stream",
     "text": [
      "Pipe wall thickness for propagation: 0.0207\n"
     ]
    }
   ],
   "source": [
    "t_2 = t - t_corr # np.array([t, t - t_corr])\n",
    "print(f\"Pipe wall thickness for propagation: {t_2}\")"
   ]
  },
  {
   "cell_type": "code",
   "execution_count": 4,
   "metadata": {
    "scrolled": true
   },
   "outputs": [
    {
     "name": "stdout",
     "output_type": "stream",
     "text": [
      "External pressure due to water depth: 4130696.7\n"
     ]
    }
   ],
   "source": [
    "p_e = pdover2t.misc.water_depth_press(h_l, rho_water, g)\n",
    "print(f\"External pressure due to water depth: {p_e:.1f}\")"
   ]
  },
  {
   "cell_type": "code",
   "execution_count": 5,
   "metadata": {},
   "outputs": [
    {
     "name": "stdout",
     "output_type": "stream",
     "text": [
      "Pipe material strength, with temperature de-rating: 444000000.0\n"
     ]
    }
   ],
   "source": [
    "f_y = pdover2t.dnvgl_st_f101.char_mat_strength(SMYS, T, material, alpha_U=alpha_U)\n",
    "print(f\"Pipe material strength, with temperature de-rating: {f_y:.1f}\")"
   ]
  },
  {
   "cell_type": "code",
   "execution_count": 6,
   "metadata": {},
   "outputs": [
    {
     "name": "stdout",
     "output_type": "stream",
     "text": [
      "Characteristic propagation pressure: 2301102.5\n"
     ]
    }
   ],
   "source": [
    "p_pr = pdover2t.dnvgl_st_f101.propbuck_char_pressure(t_2, D, f_y, alpha_fab)\n",
    "print(f\"Characteristic propagation pressure: {p_pr:.1f}\")"
   ]
  },
  {
   "cell_type": "code",
   "execution_count": 7,
   "metadata": {},
   "outputs": [
    {
     "name": "stdout",
     "output_type": "stream",
     "text": [
      "Pipe propagation buckling unity check: 2.353\n"
     ]
    }
   ],
   "source": [
    "propbuck_uty = pdover2t.dnvgl_st_f101.propbuck_unity(p_e, p_pr)\n",
    "print(f\"Pipe propagation buckling unity check: {propbuck_uty:.3f}\")"
   ]
  },
  {
   "cell_type": "code",
   "execution_count": 8,
   "metadata": {},
   "outputs": [
    {
     "name": "stdout",
     "output_type": "stream",
     "text": [
      "Critical water depth for propagating buckling: 174.22\n"
     ]
    }
   ],
   "source": [
    "propbuck_crit_wd = pdover2t.dnvgl_st_f101.propbuck_critical_wd(t_2, D, p_pr, rho_water, SMYS, \n",
    "    T=T, material=material, alpha_U=alpha_U, alpha_fab=alpha_fab )\n",
    "print(f\"Critical water depth for propagating buckling: {propbuck_crit_wd:.2f}\")"
   ]
  },
  {
   "cell_type": "code",
   "execution_count": 9,
   "metadata": {},
   "outputs": [],
   "source": [
    "# buckle arrestor properties\n",
    "L_BA = 12.2\n",
    "t = 0.0319\n",
    "t_2 = t - t_corr"
   ]
  },
  {
   "cell_type": "code",
   "execution_count": 10,
   "metadata": {},
   "outputs": [
    {
     "name": "stdout",
     "output_type": "stream",
     "text": [
      "Characteristic propagation pressure for buckle arrestor: 6521300.6\n"
     ]
    }
   ],
   "source": [
    "p_prBA = pdover2t.dnvgl_st_f101.propbuck_char_pressure(t_2, D, f_y, alpha_fab)\n",
    "print(f\"Characteristic propagation pressure for buckle arrestor: {p_prBA:.1f}\")"
   ]
  },
  {
   "cell_type": "code",
   "execution_count": 11,
   "metadata": {},
   "outputs": [
    {
     "name": "stdout",
     "output_type": "stream",
     "text": [
      "Crossover pressure for buckle arrestor: 6521300.5\n"
     ]
    }
   ],
   "source": [
    "p_x = pdover2t.dnvgl_st_f101.propbuck_crossover_press(p_pr, p_prBA, D, t_2, L_BA)\n",
    "print(f\"Crossover pressure for buckle arrestor: {p_x:.1f}\")"
   ]
  },
  {
   "cell_type": "code",
   "execution_count": 12,
   "metadata": {},
   "outputs": [
    {
     "name": "stdout",
     "output_type": "stream",
     "text": [
      "Buckle arrestor propagation buckling unity check: 0.913\n"
     ]
    }
   ],
   "source": [
    "propbuck_arrestor_uty = pdover2t.dnvgl_st_f101.propbuck_arrestor_unity(p_e, p_x)\n",
    "print(f\"Buckle arrestor propagation buckling unity check: {propbuck_arrestor_uty:.3f}\")"
   ]
  },
  {
   "cell_type": "code",
   "execution_count": 14,
   "metadata": {},
   "outputs": [
    {
     "name": "stdout",
     "output_type": "stream",
     "text": [
      "Critical water depth for buckle arrestor: 493.73\n"
     ]
    }
   ],
   "source": [
    "BA_propbuck_crit_wd = pdover2t.dnvgl_st_f101.propbuck_critical_wd(t_2, D, p_pr, rho_water, SMYS, \n",
    "    T=T, material=material, alpha_U=alpha_U, alpha_fab=alpha_fab )\n",
    "print(f\"Critical water depth for buckle arrestor: {BA_propbuck_crit_wd:.2f}\")"
   ]
  }
 ],
 "metadata": {
  "kernelspec": {
   "display_name": "Python 3",
   "language": "python",
   "name": "python3"
  },
  "language_info": {
   "codemirror_mode": {
    "name": "ipython",
    "version": 3
   },
   "file_extension": ".py",
   "mimetype": "text/x-python",
   "name": "python",
   "nbconvert_exporter": "python",
   "pygments_lexer": "ipython3",
   "version": "3.7.3"
  }
 },
 "nbformat": 4,
 "nbformat_minor": 2
}
