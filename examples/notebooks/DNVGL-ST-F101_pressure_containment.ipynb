{
 "cells": [
  {
   "cell_type": "markdown",
   "metadata": {},
   "source": [
    "**Task**:\n",
    "    \n",
    "    Pipe pressure containment (bursting) according to DNVGL-ST-F101.\n",
    "\n",
    "**References**:\n",
    "\n",
    "1. [DNVGL-ST-F101](https://www.dnvgl.com/oilgas/download/dnvgl-st-f101-submarine-pipeline-systems.html)  (edition 2017-12)\n",
    "1. [PDover2t](https://github.com/qwilka/PDover2t)  \n",
    "\n",
    "Copyright © 2018 Stephen McEntee.  Licensed under the MIT license, see [PDover2t LICENSE file](https://github.com/qwilka/PDover2t/blob/master/LICENSE) for details."
   ]
  },
  {
   "cell_type": "code",
   "execution_count": 1,
   "metadata": {},
   "outputs": [],
   "source": [
    "import pprint\n",
    "import numpy as np\n",
    "import pdover2t"
   ]
  },
  {
   "cell_type": "code",
   "execution_count": 2,
   "metadata": {},
   "outputs": [],
   "source": [
    "parameters = {\n",
    "    \"alpha_U\": 1.0,\n",
    "    \"D\": 0.660,\n",
    "    \"g\": 9.81,\n",
    "    \"gamma_inc\": 1.1,\n",
    "    \"gamma_SCPC\": 1.138,\n",
    "    \"h_ref\": 30.,\n",
    "    \"h_l\": 0.,\n",
    "    \"material\": \"CMn\",\n",
    "    \"p_d\": 240e5, \n",
    "    \"rho_cont\": 275.,\n",
    "    \"rho_water\": 1027.,\n",
    "    \"rho_t\": 1027.,\n",
    "    \"SC\": \"medium\",\n",
    "    \"SMYS\": 450.e6,\n",
    "    \"SMTS\": 535.e6,\n",
    "    \"t\": 0.0212,\n",
    "    \"t_corr\": 0.0005,\n",
    "    \"t_fab\": 0.001,\n",
    "    \"T\": 60,\n",
    "}"
   ]
  },
  {
   "cell_type": "markdown",
   "metadata": {},
   "source": [
    "Calculate pipe pressure containment utility, showing all intermediate results and unity value.  \n",
    "\n",
    "Reference:  \n",
    "DNVGL-ST-F101 (2017-12)  \n",
    "    sec:5.4.2.1, eq:5.6, page:93;  $p_{li}$  \n",
    "    sec:5.4.2.1, eq:5.7, page:94;  $p_{lt}$  \n",
    "\n",
    "$$p_{li} - p_e \\:\\leq\\: \\min \\left( \n",
    "\\frac{p_b(t_1)}{\\gamma_m \\,\\cdot\\, \\gamma_{SC,PC}} ;\n",
    "\\frac{p_{lt}}{\\alpha_{spt}}  - p_e ;\n",
    "\\frac{p_{mpt} \\cdot \\alpha_U}{\\alpha_{mpt}}  \\right)$$\n",
    "\n",
    "$$p_{lt} - p_e \\:\\leq\\: \\min \\left( \n",
    "\\frac{p_b(t_1)}{\\gamma_m \\,\\cdot\\, \\gamma_{SC,PC}} ;\n",
    "p_{mpt}  \\right)$$"
   ]
  },
  {
   "cell_type": "code",
   "execution_count": 3,
   "metadata": {
    "scrolled": true
   },
   "outputs": [
    {
     "name": "stdout",
     "output_type": "stream",
     "text": [
      "{'alpha_U': 1.0,\n",
      " 'alpha_mpt': 1.088,\n",
      " 'alpha_spt': 1.05,\n",
      " 'f_y': 444000000.0,\n",
      " 'gamma_SCPC': 1.138,\n",
      " 'gamma_m': 1.15,\n",
      " 'p_b': 24105989.108713925,\n",
      " 'p_cont_res_uty': 1.0985208854353783,\n",
      " 'p_cont_uty': 1.0985208854353783,\n",
      " 'p_e': 0.0,\n",
      " 'p_inc': 26400000.000000004,\n",
      " 'p_li': 26480932.500000004,\n",
      " 'p_lt': 259271853.4285715,\n",
      " 'p_lt_uty': 0.10213577814105228,\n",
      " 'p_mpt': 28832999.282864127,\n",
      " 'p_mpt_uty': 0.9184244843975704,\n",
      " 'p_t': 27720000.000000004,\n",
      " 'rho_t': 1027.0,\n",
      " 't_1': 0.0197,\n",
      " 't_min': 0.0202}\n"
     ]
    }
   ],
   "source": [
    "p_cont_overall = pdover2t.dnvgl_st_f101.press_contain_all(ret=\"all\", **parameters)\n",
    "pprint.pprint(p_cont_overall)"
   ]
  },
  {
   "cell_type": "code",
   "execution_count": 4,
   "metadata": {},
   "outputs": [
    {
     "name": "stdout",
     "output_type": "stream",
     "text": [
      "Pressure containment unity check result: 1.10\n"
     ]
    }
   ],
   "source": [
    "print(\"Pressure containment unity check result: {:.2f}\".format(p_cont_overall[\"p_cont_uty\"]))"
   ]
  },
  {
   "cell_type": "code",
   "execution_count": null,
   "metadata": {},
   "outputs": [],
   "source": []
  }
 ],
 "metadata": {
  "kernelspec": {
   "display_name": "Python 3",
   "language": "python",
   "name": "python3"
  },
  "language_info": {
   "codemirror_mode": {
    "name": "ipython",
    "version": 3
   },
   "file_extension": ".py",
   "mimetype": "text/x-python",
   "name": "python",
   "nbconvert_exporter": "python",
   "pygments_lexer": "ipython3",
   "version": "3.7.3"
  }
 },
 "nbformat": 4,
 "nbformat_minor": 2
}
