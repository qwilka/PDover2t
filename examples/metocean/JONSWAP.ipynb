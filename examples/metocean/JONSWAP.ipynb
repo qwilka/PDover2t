{
 "cells": [
  {
   "cell_type": "markdown",
   "metadata": {},
   "source": [
    "Notebook for investigating JONSWAP waves. <br/>\n",
    "References: <br/>\n",
    "DNVGL-RP-F109 On-bottom stability design of submarine pipelines, edition May 2017. <br/>\n",
    "DNVGL-RP-C205 Environmental conditions and environmental loads, edition August 2017. <br/>\n",
    "Soulsby, R.L.and Smallman, J.V., 1986, A direct method of calculating bottom orbital velocity under waves, Technical Report No. SR76, Hydraulics Research Wallingford. http://eprints.hrwallingford.co.uk/761/"
   ]
  },
  {
   "cell_type": "code",
   "execution_count": 159,
   "metadata": {},
   "outputs": [],
   "source": [
    "%matplotlib inline"
   ]
  },
  {
   "cell_type": "code",
   "execution_count": 160,
   "metadata": {},
   "outputs": [],
   "source": [
    "import numpy as np\n",
    "import scipy.optimize\n",
    "import scipy.integrate\n",
    "import matplotlib.pyplot as plt"
   ]
  },
  {
   "cell_type": "markdown",
   "metadata": {},
   "source": [
    "$S_{\\eta\\eta} = \\alpha \\cdot g^2 \\cdot \\omega^{-5} \\cdot \n",
    "\\exp^{-\\frac{5}{4}\\left(\\frac{\\omega}{\\omega_p}\\right)^{-4}} \\cdot \n",
    "\\gamma^{\\exp\\left(-0.5 \\left(\\frac{\\omega-\\omega_p}{\\sigma \\cdot \\omega_p}  \\right)^2   \\right)}$ \n",
    "&nbsp; &nbsp; &nbsp; JONSWAP spectrum «S_etaeta»\n",
    "\n",
    "$\\alpha = \\frac{5}{16} \\cdot \\frac{H_s^2 \\cdot \\omega_p^4}{g^2} \\cdot \n",
    "\\left(1 - 0.287 \\cdot \\ln{\\gamma}  \\right)$ \n",
    "&nbsp; &nbsp; &nbsp; Phillip's constant «phillips»\n",
    "\n",
    "$\\sigma = \\begin{cases}\n",
    "               0.07 \\quad if \\, \\omega < \\omega_p\\\\\n",
    "               0.09 \\quad else\\\\\n",
    "            \\end{cases} $\n",
    "&nbsp; &nbsp; &nbsp; Spectral width parameter «sigma»\n",
    "\n",
    "$\\gamma = \\begin{cases}\n",
    "               5.0 \\hspace{9em} \\phi \\leq 3.6\\\\\n",
    "               \\exp \\left(5.75-1.15 \\phi   \\right) \\qquad 3.6 < \\phi < 5.0\\\\\n",
    "               1.0 \\hspace{9em} \\phi \\geq 5.0\\\\\n",
    "            \\end{cases} $\n",
    "&nbsp; &nbsp; &nbsp; Peak-enhancement factor «gamma»\n",
    "\n",
    "$\\phi = \\frac{T_p}{\\sqrt{H_s}}$ &nbsp; &nbsp; &nbsp;  «phi»\n",
    "\n",
    "Ref: DNVGL-RP-F109, sec. 3.4.3, p. 16, eqns. 3.4, 3.5, 3.6, 3.7"
   ]
  },
  {
   "cell_type": "code",
   "execution_count": 161,
   "metadata": {},
   "outputs": [],
   "source": [
    "def JONSWAP(omega, H_s, T_p, grav_acc=9.81, gamma=None):\n",
    "    omega_p = 2*np.pi/T_p\n",
    "    sigma = np.full(omega.shape, 0.09)\n",
    "    sigma[omega<=omega_p] = 0.07\n",
    "    phi = T_p / np.sqrt(H_s)\n",
    "    if not gamma:\n",
    "        if phi<=3.6:\n",
    "            gamma = 5\n",
    "        elif 3.6<phi<5:\n",
    "            gamma = np.exp(5.75-1.15*phi)\n",
    "        else:\n",
    "            gamma = 1\n",
    "    phillips = ( 5/16 * H_s**2 * \n",
    "                omega_p**4 / grav_acc**2 * \n",
    "                (1-0.287*np.log(gamma)) )\n",
    "    S_etaeta = ( phillips * grav_acc**2 * omega**-5 * \n",
    "                np.exp(-5/4 * (omega/omega_p)**-4 ) *\n",
    "                gamma**np.exp(-0.5*((omega-omega_p)/(sigma*omega_p))**2 ) )\n",
    "    return S_etaeta, gamma"
   ]
  },
  {
   "cell_type": "code",
   "execution_count": 162,
   "metadata": {},
   "outputs": [
    {
     "data": {
      "text/plain": [
       "<matplotlib.legend.Legend at 0x7efbc0669898>"
      ]
     },
     "execution_count": 162,
     "metadata": {},
     "output_type": "execute_result"
    },
    {
     "data": {
      "image/png": "[encoded data removed]",
      "text/plain": [
       "<matplotlib.figure.Figure at 0x7efbc06a3908>"
      ]
     },
     "metadata": {},
     "output_type": "display_data"
    }
   ],
   "source": [
    "omega = np.linspace(0.01, 3.0, 300)\n",
    "S_etaeta1, gamma = JONSWAP(omega, H_s=4, T_p=8, gamma=1)\n",
    "S_etaeta2, gamma = JONSWAP(omega, H_s=4, T_p=8, gamma=2)\n",
    "S_etaeta3, gamma = JONSWAP(omega, H_s=4, T_p=8, gamma=5)\n",
    "plt.title(\"JONSWAP spectra ($H_s=4m$,  $T_p=8s$) \\n example from DNVGL-RP-C205, sec. 3.5.5.2, fig. 3-9\\n\")\n",
    "plt.plot(omega, S_etaeta1, '-r', label='$\\gamma=1$')\n",
    "plt.plot(omega, S_etaeta2, '-g', label='$\\gamma=2$')\n",
    "plt.plot(omega, S_etaeta3, '-b', label='$\\gamma=5$')\n",
    "plt.xlim([0,3])\n",
    "plt.ylim([0,6])\n",
    "plt.xlabel(\"$\\omega$\", size=\"x-large\")\n",
    "plt.ylabel(\"$S_{\\eta\\eta}(\\omega)$\", size=\"x-large\")\n",
    "plt.grid(True)\n",
    "plt.legend(loc='best')"
   ]
  },
  {
   "cell_type": "markdown",
   "metadata": {},
   "source": [
    "$T = \\left[ \\frac{g}{2\\pi\\lambda}  \\cdot \\tanh \\left( \\frac{2\\pi d}{\\lambda} \\right) \\right]^{-\\frac{1}{2}}$\n",
    "&nbsp; &nbsp; &nbsp; $\\lambda$ wave length «wavelen», &nbsp; &nbsp; &nbsp; T wave period\n",
    "\n",
    "$k = \\frac{2 \\pi}{\\lambda}$ &nbsp; &nbsp;wave number,\n",
    "&nbsp; &nbsp; &nbsp; \n",
    "$\\omega = \\frac{2 \\pi}{T}$ &nbsp; &nbsp; angular frequency «omega»\n",
    "\n",
    "Ref: DNVGL-RP-C205, sec. 3.2.2.3, p. 46"
   ]
  },
  {
   "cell_type": "code",
   "execution_count": 163,
   "metadata": {},
   "outputs": [],
   "source": [
    "def find_wavelen_func(_lambda, T, depth, grav_acc=9.81):\n",
    "    return T**2 - 2*np.pi*_lambda/grav_acc / np.tanh(2*np.pi*depth/_lambda)"
   ]
  },
  {
   "cell_type": "code",
   "execution_count": 164,
   "metadata": {},
   "outputs": [],
   "source": [
    "def calc_wave_length(T, depth, grav_acc=9.81):\n",
    "    if isinstance(T, np.ndarray):\n",
    "        wavelen = np.zeros_like(T)\n",
    "        for ii, _T in enumerate(T):\n",
    "            try:\n",
    "                wavelen[ii] = scipy.optimize.bisect(find_wavelen_func,  \n",
    "                                        0.1, 1000, args=(_T, depth))\n",
    "            except ValueError as err:\n",
    "                wavelen[ii] = np.NaN\n",
    "    else:\n",
    "        wavelen = scipy.optimize.bisect(find_wavelen_func, 0.1, 1000, \n",
    "                                    args=(T, depth))\n",
    "    return wavelen"
   ]
  },
  {
   "cell_type": "code",
   "execution_count": 165,
   "metadata": {},
   "outputs": [
    {
     "name": "stdout",
     "output_type": "stream",
     "text": [
      "wave length=156.131m  (T=10s, depth=2000m)\n",
      "wave length=31.111m  (T=10s, depth=1m)\n",
      "wave length=329.340m  (T=15s, depth=90m)\n"
     ]
    }
   ],
   "source": [
    "T=10; depth=2000\n",
    "wavelen = calc_wave_length(T, depth)\n",
    "print(f\"wave length={wavelen:.3f}m  (T={T}s, depth={depth}m)\")\n",
    "T=10; depth=1\n",
    "wavelen = calc_wave_length(T, depth)\n",
    "print(f\"wave length={wavelen:.3f}m  (T={T}s, depth={depth}m)\")\n",
    "T=15; depth=90\n",
    "wavelen = calc_wave_length(T, depth)\n",
    "print(f\"wave length={wavelen:.3f}m  (T={T}s, depth={depth}m)\")"
   ]
  },
  {
   "cell_type": "markdown",
   "metadata": {},
   "source": [
    "$S_{UU}(\\omega) = G^2(\\omega) \\cdot S_{\\eta\\eta}(\\omega)$\n",
    "\n",
    "$G(\\omega) = \\frac{\\omega}{\\sinh(k \\cdot d)}$\n",
    "\n",
    "Ref: DNVGL-RP-F109, sec. 3.4.3, p. 17, eqns. 3.8, 3.9"
   ]
  },
  {
   "cell_type": "code",
   "execution_count": 166,
   "metadata": {},
   "outputs": [],
   "source": [
    "def JONSWAP_depth_transform(omega, S_etaeta, depth, D=0, e=0, grav_acc=9.81): \n",
    "    T = 2*np.pi/omega \n",
    "    wavelen = calc_wave_length(T, depth)\n",
    "    k = 2*np.pi/wavelen\n",
    "    G = omega*np.cosh(k*(D+e))/np.sinh(k*depth)\n",
    "    S_uu = G**2 * S_etaeta\n",
    "    return S_uu, G"
   ]
  },
  {
   "cell_type": "code",
   "execution_count": 167,
   "metadata": {},
   "outputs": [
    {
     "data": {
      "text/plain": [
       "<matplotlib.legend.Legend at 0x7efbc0581c18>"
      ]
     },
     "execution_count": 167,
     "metadata": {},
     "output_type": "execute_result"
    },
    {
     "data": {
      "image/png": "[encoded data removed]",
      "text/plain": [
       "<matplotlib.figure.Figure at 0x7efbc05fd2b0>"
      ]
     },
     "metadata": {},
     "output_type": "display_data"
    }
   ],
   "source": [
    "omega = np.linspace(0.01, 3.0, 300)\n",
    "T_p=15; depth=90; H_s=10\n",
    "omega = np.linspace(0.1, 3.0, 100)\n",
    "S_etaeta, gamma = JONSWAP(omega, H_s=4, T_p=8, gamma=1)\n",
    "S_uu, G = JONSWAP_depth_transform(omega, S_etaeta, D=0, depth=depth)\n",
    "plt.title(f\"JONSWAP spectra - surface and at depth \\n($H_s={H_s}m$,  $T_p={T_p}s$, $depth={depth}m$, $\\gamma={gamma}$)\")\n",
    "plt.plot(omega, S_etaeta, '-r', label='$S_{\\eta\\eta}$')\n",
    "plt.plot(omega, G, '--g', label='$G$')\n",
    "plt.plot(omega, S_uu, '-b', label='$S_{UU}$')\n",
    "plt.xlim([0,3])\n",
    "plt.ylim([0,2])\n",
    "plt.xlabel(\"$\\omega$\", size=\"x-large\")\n",
    "plt.ylabel(\"$S(\\omega)$\", size=\"x-large\")\n",
    "plt.grid(True)\n",
    "plt.legend(loc='best')"
   ]
  },
  {
   "cell_type": "code",
   "execution_count": 168,
   "metadata": {},
   "outputs": [
    {
     "name": "stdout",
     "output_type": "stream",
     "text": [
      "approx. M_0 = 6.25, U_s=5.0\n",
      "M_0 = 6.247031239490564\n",
      "approx. M_2 = 2.193245422464302\n",
      "M_2 = 2.119695233924831\n",
      "U_s = 4.998812354746101\n",
      "T_u = 10.786486283961281\n",
      "M_0 = 0.09946216862130082, depth=90\n",
      "M_2 = 0.01625091062949805, depth=90\n",
      "U_s = 0.6307524668879253\n",
      "T_u = 15.54425740865491\n"
     ]
    }
   ],
   "source": [
    "T_p=15; depth=90; H_s=10\n",
    "omega = np.linspace(0.1, 3.0, 100)\n",
    "S_etaeta, gamma = JONSWAP(omega, H_s=H_s, T_p=T_p, gamma=1)\n",
    "M_0 = 1/16 * H_s**2   # DNVGL-RP-C205, sec. 3.5.5.3, p. 66\n",
    "U_s = 2 * np.sqrt(M_0)\n",
    "print(f\"approx. M_0 = {M_0}, U_s={U_s}\")\n",
    "M_0 = scipy.integrate.trapz(S_etaeta, omega)\n",
    "print(f\"M_0 = {M_0}\")\n",
    "M_2 = 1/16 * H_s**2 * (2*np.pi/T_p)**2 * (11+gamma)/(5+gamma)  # DNVGL-RP-C205, sec. 3.5.5.3, p. 66\n",
    "print(f\"approx. M_2 = {M_2}\")\n",
    "M_2 = scipy.integrate.trapz(S_etaeta*omega**2, omega)\n",
    "print(f\"M_2 = {M_2}\")\n",
    "U_s = 2 * np.sqrt(M_0)\n",
    "print(f\"U_s = {U_s}\")\n",
    "T_u = 2 * np.pi * np.sqrt(M_0/M_2)\n",
    "print(f\"T_u = {T_u}\")\n",
    "S_uu, G = JONSWAP_depth_transform(omega, S_etaeta, D=0, depth=depth)\n",
    "S_uu = np.nan_to_num(S_uu)\n",
    "#print(S_uu)\n",
    "M_0 = scipy.integrate.trapz(S_uu, omega)\n",
    "print(f\"M_0 = {M_0}, depth={depth}\")\n",
    "M_2 = scipy.integrate.trapz(S_uu*omega**2, omega)\n",
    "print(f\"M_2 = {M_2}, depth={depth}\")\n",
    "U_s = 2 * np.sqrt(M_0)\n",
    "print(f\"U_s = {U_s}\")\n",
    "T_u = 2 * np.pi * np.sqrt(M_0/M_2)\n",
    "print(f\"T_u = {T_u}\")"
   ]
  },
  {
   "cell_type": "code",
   "execution_count": 169,
   "metadata": {},
   "outputs": [
    {
     "name": "stdout",
     "output_type": "stream",
     "text": [
      "T_n = 3.0289126640769135\n",
      "T_n/T_p = 0.2019275109384609\n",
      "U_s = 0.660302960768767\n"
     ]
    }
   ],
   "source": [
    "# example DNV-RP-F105 course p. 67\n",
    "T_p=15; depth=90; H_s=10\n",
    "T_n = np.sqrt(depth/9.81)\n",
    "print(f\"T_n = {T_n}\")\n",
    "T_n_T_p = T_n/T_p\n",
    "print(f\"T_n/T_p = {T_n_T_p}\")\n",
    "U_s = 0.2*H_s/T_n\n",
    "print(f\"U_s = {U_s}\")"
   ]
  },
  {
   "cell_type": "code",
   "execution_count": 170,
   "metadata": {},
   "outputs": [
    {
     "name": "stdout",
     "output_type": "stream",
     "text": [
      "approx. M_0 = 1.5625, U_s=2.5\n",
      "M_0 = 1.5611047766495092\n",
      "approx. M_2 = 0.7518158872369117\n",
      "M_2 = 0.7198081834465321\n",
      "U_s = 2.4988835720373284\n",
      "T_u = 9.253105306233785\n",
      "M_0 = 0.06997540546193502, depth=50\n",
      "M_2 = 0.017071438432567032, depth=50\n",
      "T_n = 2.2576182049286544, depth=50\n",
      "U_s = 0.5290572954300319\n",
      "T_u = 12.720890728873341\n"
     ]
    }
   ],
   "source": [
    "# 1986 Soulsby and Smallman  p. 17\n",
    "T_z=10; depth=50; H_s=5\n",
    "T_p = 1.281 *T_z  # eq. 19, p. 13  (see also Table 1 in appendix)\n",
    "omega = np.linspace(0.1, 3.0, 100)\n",
    "S_etaeta, gamma = JONSWAP(omega, H_s=H_s, T_p=T_p, gamma=1)\n",
    "M_0 = 1/16 * H_s**2   # DNVGL-RP-C205, sec. 3.5.5.3, p. 66\n",
    "U_s = 2 * np.sqrt(M_0)\n",
    "print(f\"approx. M_0 = {M_0}, U_s={U_s}\")\n",
    "M_0 = scipy.integrate.trapz(S_etaeta, omega)\n",
    "print(f\"M_0 = {M_0}\")\n",
    "M_2 = 1/16 * H_s**2 * (2*np.pi/T_p)**2 * (11+gamma)/(5+gamma)  # DNVGL-RP-C205, sec. 3.5.5.3, p. 66\n",
    "print(f\"approx. M_2 = {M_2}\")\n",
    "M_2 = scipy.integrate.trapz(S_etaeta*omega**2, omega)\n",
    "print(f\"M_2 = {M_2}\")\n",
    "U_s = 2 * np.sqrt(M_0)\n",
    "print(f\"U_s = {U_s}\")\n",
    "T_u = 2 * np.pi * np.sqrt(M_0/M_2)\n",
    "print(f\"T_u = {T_u}\")\n",
    "S_uu, G = JONSWAP_depth_transform(omega, S_etaeta, D=0, depth=depth)\n",
    "S_uu = np.nan_to_num(S_uu)\n",
    "#print(S_uu)\n",
    "M_0 = scipy.integrate.trapz(S_uu, omega)\n",
    "print(f\"M_0 = {M_0}, depth={depth}\")\n",
    "M_2 = scipy.integrate.trapz(S_uu*omega**2, omega)\n",
    "print(f\"M_2 = {M_2}, depth={depth}\")\n",
    "T_n = np.sqrt(depth/9.81)\n",
    "print(f\"T_n = {T_n}, depth={depth}\")\n",
    "U_s = 2 * np.sqrt(M_0)\n",
    "print(f\"U_s = {U_s}\")\n",
    "T_u = 2 * np.pi * np.sqrt(M_0/M_2)\n",
    "print(f\"T_u = {T_u}\")"
   ]
  },
  {
   "cell_type": "code",
   "execution_count": 184,
   "metadata": {},
   "outputs": [],
   "source": [
    "def calc_Us_Tu_at_depth(depth, H_s, T_p, gamma=1, grav_acc=9.81):\n",
    "    omega = np.linspace(0.1, 5.0, 600)\n",
    "    S_etaeta, gamma = JONSWAP(omega, H_s=H_s, T_p=T_p, gamma=gamma)\n",
    "    S_uu, G = JONSWAP_depth_transform(omega, S_etaeta, D=0, depth=depth)\n",
    "    S_uu = np.nan_to_num(S_uu)\n",
    "    M_0 = scipy.integrate.trapz(S_uu, omega)\n",
    "    M_2 = scipy.integrate.trapz(S_uu*omega**2, omega)     \n",
    "    U_s = 2 * np.sqrt(M_0)\n",
    "    T_u = 2 * np.pi * np.sqrt(M_0/M_2)\n",
    "    T_n = np.sqrt(depth/grav_acc)\n",
    "    return U_s, T_u, T_n"
   ]
  },
  {
   "cell_type": "code",
   "execution_count": 172,
   "metadata": {},
   "outputs": [
    {
     "name": "stdout",
     "output_type": "stream",
     "text": [
      "U_s=1.951, T_u=8.772, T_n=1.010, T_n/T_z=0.126, depth=10\n",
      "U_m=2.7596485401595983\n",
      "U_s=0.355, T_u=10.927, T_n=2.258, T_n/T_z=0.282, depth=50\n"
     ]
    }
   ],
   "source": [
    "# Soulsby & Smallman (1986), p. 17\n",
    "H_s = 5\n",
    "T_z = 8\n",
    "T_p = 1.281*T_z\n",
    "gamma=1\n",
    "depth=10\n",
    "U_s, T_u, T_n = calc_Us_Tu_at_depth(depth=depth, H_s=H_s, T_p=T_p, gamma=gamma)\n",
    "Tn_Tz = T_n/T_z\n",
    "print(f\"U_s={U_s:.3f}, T_u={T_u:.3f}, T_n={T_n:.3f}, T_n/T_z={Tn_Tz:.3f}, depth={depth}\")\n",
    "U_m = np.sqrt(2) * U_s\n",
    "print(f\"U_m={U_m}\")\n",
    "depth=50\n",
    "U_s, T_u, T_n = calc_Us_Tu_at_depth(depth=depth, H_s=H_s, T_p=T_p, gamma=gamma)\n",
    "Tn_Tz = T_n/T_z\n",
    "print(f\"U_s={U_s:.3f}, T_u={T_u:.3f}, T_n={T_n:.3f}, T_n/T_z={Tn_Tz:.3f}, depth={depth}\")\n",
    "# results not consistent (M_2 not correct??, see below)"
   ]
  },
  {
   "cell_type": "code",
   "execution_count": 173,
   "metadata": {
    "scrolled": true
   },
   "outputs": [
    {
     "name": "stdout",
     "output_type": "stream",
     "text": [
      "M_0 = 0.5183982502835391, depth=0 (expected 0.5184) \n",
      "M_2 = 0.1684573773307614, depth=0 (expected 0.0043)\n",
      "U_s = 1.4399975698361982\n",
      "T_u = 11.0221575464895\n",
      "M_0 = 1.037236226994421e-09, depth=937\n",
      "M_2 = 7.63357886030026e-11, depth=937\n",
      "U_s = 6.441230401078418e-05\n",
      "T_u = 23.160856109873702\n"
     ]
    },
    {
     "name": "stderr",
     "output_type": "stream",
     "text": [
      "/home/develop/local/anaconda3/envs/py3/lib/python3.6/site-packages/ipykernel_launcher.py:5: RuntimeWarning: overflow encountered in sinh\n",
      "  \"\"\"\n"
     ]
    }
   ],
   "source": [
    "# 2016 Thesis SPECIFIC SOFTWARE TOOL DEVELOPMENT FOR RIGID PIPELINE DESIGN, Nuno Filipe Salsa da Silva Ferreira\n",
    "# https://fenix.tecnico.ulisboa.pt/downloadFile/1689244997255722/dissertacao.pdf\n",
    "# sec. 5.2.4, p. 83;  M0=0.5184 m /Hz; M2=0.0043 m /Hz\n",
    "gamma = 1   # page 72\n",
    "H_s = 2.88\n",
    "T_p = 15.5\n",
    "#U_s, T_u, T_n = calc_Us_Tu_at_depth(depth=depth, H_s=H_s, T_p=T_p, gamma=gamma)\n",
    "#print(f\"U_s={U_s:.3f}, T_u={T_u:.3f}, T_n={T_n:.3f}, T_n/T_z={Tn_Tz:.3f}, depth={depth}\")\n",
    "depth = 0\n",
    "omega = np.linspace(0.01, 10.0, 1000)\n",
    "S_etaeta, gamma = JONSWAP(omega, H_s=H_s, T_p=T_p, gamma=gamma)\n",
    "M_0 = scipy.integrate.trapz(S_etaeta, omega)\n",
    "print(f\"M_0 = {M_0}, depth={depth} (expected 0.5184) \")\n",
    "M_2 = scipy.integrate.trapz(S_etaeta*omega**2, omega)\n",
    "print(f\"M_2 = {M_2}, depth={depth} (expected 0.0043)\")\n",
    "U_s = 2 * np.sqrt(M_0)\n",
    "print(f\"U_s = {U_s}\")\n",
    "T_u = 2 * np.pi * np.sqrt(M_0/M_2)\n",
    "print(f\"T_u = {T_u}\")\n",
    "depth = 937 # minimum water depth, page 69\n",
    "S_uu, G = JONSWAP_depth_transform(omega, S_etaeta, D=0, depth=depth)\n",
    "S_uu = np.nan_to_num(S_uu)\n",
    "#print(S_uu)\n",
    "M_0 = scipy.integrate.trapz(S_uu, omega)\n",
    "print(f\"M_0 = {M_0}, depth={depth}\")\n",
    "M_2 = scipy.integrate.trapz(S_uu*omega**2, omega)\n",
    "print(f\"M_2 = {M_2}, depth={depth}\")\n",
    "U_s = 2 * np.sqrt(M_0)\n",
    "print(f\"U_s = {U_s}\")\n",
    "T_u = 2 * np.pi * np.sqrt(M_0/M_2)\n",
    "print(f\"T_u = {T_u}\")"
   ]
  },
  {
   "cell_type": "code",
   "execution_count": 185,
   "metadata": {},
   "outputs": [
    {
     "name": "stdout",
     "output_type": "stream",
     "text": [
      "1-year U_s=0.059, T_u=17.689, T_n=5.148, depth=260\n",
      "10-year U_s=0.103, T_u=18.342, T_n=5.148, depth=260\n",
      "100-year U_s=0.163, T_u=18.979, T_n=5.148, depth=260\n",
      "1000-year U_s=0.239, T_u=19.597, T_n=5.148, depth=260\n"
     ]
    }
   ],
   "source": [
    "#GE p 35 - these results are good (slight differences in T_u)!\n",
    "depth=260\n",
    "H_s = 11  # 1 year\n",
    "T_p = 14.6\n",
    "gamma = 3.3\n",
    "U_s, T_u, T_n = calc_Us_Tu_at_depth(depth=depth, H_s=H_s, T_p=T_p, gamma=gamma)\n",
    "print(f\"1-year U_s={U_s:.3f}, T_u={T_u:.3f}, T_n={T_n:.3f}, depth={depth}\")\n",
    "H_s = 13.691  # 10 year\n",
    "T_p = 15.565\n",
    "U_s, T_u, T_n = calc_Us_Tu_at_depth(depth=depth, H_s=H_s, T_p=T_p, gamma=gamma)\n",
    "print(f\"10-year U_s={U_s:.3f}, T_u={T_u:.3f}, T_n={T_n:.3f}, depth={depth}\")\n",
    "H_s = 16.3  # 100 year\n",
    "T_p = 16.5\n",
    "U_s, T_u, T_n = calc_Us_Tu_at_depth(depth=depth, H_s=H_s, T_p=T_p, gamma=gamma)\n",
    "print(f\"100-year U_s={U_s:.3f}, T_u={T_u:.3f}, T_n={T_n:.3f}, depth={depth}\")\n",
    "H_s = 18.844  # 1000 year\n",
    "T_p = 17.412\n",
    "U_s, T_u, T_n = calc_Us_Tu_at_depth(depth=depth, H_s=H_s, T_p=T_p, gamma=gamma)\n",
    "print(f\"1000-year U_s={U_s:.3f}, T_u={T_u:.3f}, T_n={T_n:.3f}, depth={depth}\")"
   ]
  },
  {
   "cell_type": "code",
   "execution_count": null,
   "metadata": {},
   "outputs": [],
   "source": []
  }
 ],
 "metadata": {
  "kernelspec": {
   "display_name": "Python 3",
   "language": "python",
   "name": "python3"
  },
  "language_info": {
   "codemirror_mode": {
    "name": "ipython",
    "version": 3
   },
   "file_extension": ".py",
   "mimetype": "text/x-python",
   "name": "python",
   "nbconvert_exporter": "python",
   "pygments_lexer": "ipython3",
   "version": "3.7.5"
  }
 },
 "nbformat": 4,
 "nbformat_minor": 2
}
