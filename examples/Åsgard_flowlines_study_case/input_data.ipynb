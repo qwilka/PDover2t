{
 "cells": [
  {
   "cell_type": "markdown",
   "metadata": {},
   "source": [
    "## Åsgard flowlines study case\n",
    "\n",
    "#### References\n",
    "\n",
    "1. https://github.com/qwilka/PDover2t\n",
    "1. «Subsea pipeline design, analysis, and installation» Bai & Bai, 2014 ed, Chapter 23 [@bai2014subsea]"
   ]
  },
  {
   "cell_type": "code",
   "execution_count": null,
   "metadata": {},
   "outputs": [],
   "source": [
    "import pdover2t"
   ]
  },
  {
   "cell_type": "code",
   "execution_count": null,
   "metadata": {},
   "outputs": [],
   "source": [
    "P101_z2_pipe = {\n",
    "    \"Do\": 258.5e-3,   # pipe outer diameter (m)\n",
    "    \"WT\": 15.6e-3,   # pipe wall thickness (m)\n",
    "    \"ρ\": 7850.0     # pipe steel density (kg/m3)\n",
    "}\n",
    "\n",
    "ρ_seawater = 1027.0     # seawater density (kg/m3)"
   ]
  },
  {
   "cell_type": "code",
   "execution_count": null,
   "metadata": {},
   "outputs": [],
   "source": []
  }
 ],
 "metadata": {
  "kernelspec": {
   "display_name": "Python 3",
   "language": "python",
   "name": "python3"
  },
  "language_info": {
   "codemirror_mode": {
    "name": "ipython",
    "version": 3
   },
   "file_extension": ".py",
   "mimetype": "text/x-python",
   "name": "python",
   "nbconvert_exporter": "python",
   "pygments_lexer": "ipython3",
   "version": "3.7.5"
  }
 },
 "nbformat": 4,
 "nbformat_minor": 4
}
